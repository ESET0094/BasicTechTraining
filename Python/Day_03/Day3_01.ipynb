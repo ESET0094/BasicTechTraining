{
 "cells": [
  {
   "cell_type": "code",
   "execution_count": 2,
   "id": "613bcc71",
   "metadata": {},
   "outputs": [
    {
     "name": "stdout",
     "output_type": "stream",
     "text": [
      "Area of rectangle: 598  Sq. Units\n"
     ]
    }
   ],
   "source": [
    "l = int(input(\"Enter Length:\"))\n",
    "b = int(input(\"Enter Breadth:\"))\n",
    "Area =  l*b\n",
    "print(\"Area of rectangle:\", Area, \" Sq. Units\")"
   ]
  },
  {
   "cell_type": "code",
   "execution_count": 5,
   "id": "85fa2a46",
   "metadata": {},
   "outputs": [
    {
     "data": {
      "text/plain": [
       "['apple', 'banana', 'grapes']"
      ]
     },
     "execution_count": 5,
     "metadata": {},
     "output_type": "execute_result"
    }
   ],
   "source": [
    "fruits = [\"apple\", \"banana\"]\n",
    "fruits.append(\"grapes\")\n",
    "fruits"
   ]
  },
  {
   "cell_type": "code",
   "execution_count": 8,
   "id": "e588e991",
   "metadata": {},
   "outputs": [
    {
     "data": {
      "text/plain": [
       "['apple', 'banana', 'grapes', 'pineapple', 'pineapple']"
      ]
     },
     "execution_count": 8,
     "metadata": {},
     "output_type": "execute_result"
    }
   ],
   "source": [
    "fruits.insert(3,\"pineapple\")\n",
    "fruits"
   ]
  },
  {
   "cell_type": "code",
   "execution_count": 9,
   "id": "4f5dc8f4",
   "metadata": {},
   "outputs": [
    {
     "data": {
      "text/plain": [
       "['apple', 'banana', 'grapes', 'pineapple']"
      ]
     },
     "execution_count": 9,
     "metadata": {},
     "output_type": "execute_result"
    }
   ],
   "source": [
    "fruits.pop()\n",
    "fruits"
   ]
  },
  {
   "cell_type": "code",
   "execution_count": 14,
   "id": "d18f8223",
   "metadata": {},
   "outputs": [],
   "source": [
    "fruits.remove(\"banana\")\n"
   ]
  },
  {
   "cell_type": "code",
   "execution_count": 15,
   "id": "d40cc73c",
   "metadata": {},
   "outputs": [
    {
     "data": {
      "text/plain": [
       "['grapes', 'pineapple']"
      ]
     },
     "execution_count": 15,
     "metadata": {},
     "output_type": "execute_result"
    }
   ],
   "source": [
    "fruits"
   ]
  },
  {
   "cell_type": "code",
   "execution_count": 16,
   "id": "cdb56414",
   "metadata": {},
   "outputs": [],
   "source": [
    "dict1 ={}"
   ]
  },
  {
   "cell_type": "code",
   "execution_count": 17,
   "id": "f4683f2f",
   "metadata": {},
   "outputs": [
    {
     "data": {
      "text/plain": [
       "dict"
      ]
     },
     "execution_count": 17,
     "metadata": {},
     "output_type": "execute_result"
    }
   ],
   "source": [
    "type(dict1)"
   ]
  },
  {
   "cell_type": "code",
   "execution_count": 22,
   "id": "8f98f9eb",
   "metadata": {},
   "outputs": [
    {
     "name": "stdout",
     "output_type": "stream",
     "text": [
      "dict_keys(['Name', 'DOB'])\n"
     ]
    },
    {
     "data": {
      "text/plain": [
       "dict_values(['Sarath', '19-May-2001'])"
      ]
     },
     "execution_count": 22,
     "metadata": {},
     "output_type": "execute_result"
    }
   ],
   "source": [
    "dict1[\"Name\"]=\"Sarath\"\n",
    "dict1[\"DOB\"]=\"19-May-2001\"\n",
    "print(dict1.keys())\n",
    "dict1.values()"
   ]
  },
  {
   "cell_type": "code",
   "execution_count": 24,
   "id": "5269b5a5",
   "metadata": {},
   "outputs": [
    {
     "data": {
      "text/plain": [
       "tuple"
      ]
     },
     "execution_count": 24,
     "metadata": {},
     "output_type": "execute_result"
    }
   ],
   "source": [
    "x = (10,20)\n",
    "type(x)"
   ]
  },
  {
   "cell_type": "code",
   "execution_count": null,
   "id": "34d5e147",
   "metadata": {},
   "outputs": [
    {
     "name": "stdout",
     "output_type": "stream",
     "text": [
      "Tuple is Immutable\n"
     ]
    }
   ],
   "source": [
    "#Testing Immutable Property of Tuple\n",
    "try:\n",
    "    x[1]=30\n",
    "except:\n",
    "    print(\"Tuple is Immutable\")"
   ]
  },
  {
   "cell_type": "code",
   "execution_count": null,
   "id": "9017cee0",
   "metadata": {},
   "outputs": [
    {
     "name": "stdout",
     "output_type": "stream",
     "text": [
      "You can vote\n"
     ]
    }
   ],
   "source": [
    "#Voter Eligibility Using IF-ELSE\n",
    "age = int(input())\n",
    "if age>=18:\n",
    "    print(\"You can vote\")\n",
    "else:\n",
    "    print(\"Not Eligible yet\")"
   ]
  },
  {
   "cell_type": "code",
   "execution_count": null,
   "id": "09825414",
   "metadata": {},
   "outputs": [],
   "source": [
    "#Using for loop and while loop\n",
    "for num in (1,10):\n",
    "    print(num)\n",
    "\n",
    "while m"
   ]
  }
 ],
 "metadata": {
  "kernelspec": {
   "display_name": "my_env (3.13.7)",
   "language": "python",
   "name": "python3"
  },
  "language_info": {
   "codemirror_mode": {
    "name": "ipython",
    "version": 3
   },
   "file_extension": ".py",
   "mimetype": "text/x-python",
   "name": "python",
   "nbconvert_exporter": "python",
   "pygments_lexer": "ipython3",
   "version": "3.13.7"
  }
 },
 "nbformat": 4,
 "nbformat_minor": 5
}
