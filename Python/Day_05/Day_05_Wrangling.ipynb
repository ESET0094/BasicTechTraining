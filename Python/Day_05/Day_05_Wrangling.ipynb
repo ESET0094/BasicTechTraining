{
 "cells": [
  {
   "cell_type": "code",
   "execution_count": null,
   "id": "ab41f8e8",
   "metadata": {},
   "outputs": [],
   "source": [
    "#Data wrangling\n",
    "import pandas as pd\n",
    "import numpy as np \n",
    "\n",
    "def wrangle(data):\n",
    "    data.dropna(inplace=True)\n",
    "    return data"
   ]
  },
  {
   "cell_type": "code",
   "execution_count": 3,
   "id": "f1937779",
   "metadata": {},
   "outputs": [],
   "source": [
    "df = pd.read_csv(r\"C:\\Users\\HP\\BasicTechTraining\\Basic\\Python\\Day_04\\Global_EV_Charging_Dataset\\charging_stations_2025_world.csv\")"
   ]
  },
  {
   "cell_type": "code",
   "execution_count": 4,
   "id": "bd694284",
   "metadata": {},
   "outputs": [
    {
     "data": {
      "text/plain": [
       "id                    0\n",
       "name                  0\n",
       "city              22189\n",
       "country_code          1\n",
       "state_province    69998\n",
       "latitude              0\n",
       "longitude             0\n",
       "ports                 0\n",
       "power_kw           4660\n",
       "power_class           0\n",
       "is_fast_dc            0\n",
       "dtype: int64"
      ]
     },
     "execution_count": 4,
     "metadata": {},
     "output_type": "execute_result"
    }
   ],
   "source": [
    "df.isnull().sum()"
   ]
  },
  {
   "cell_type": "code",
   "execution_count": 5,
   "id": "a6034408",
   "metadata": {},
   "outputs": [
    {
     "name": "stdout",
     "output_type": "stream",
     "text": [
      "<class 'pandas.core.frame.DataFrame'>\n",
      "RangeIndex: 242417 entries, 0 to 242416\n",
      "Data columns (total 11 columns):\n",
      " #   Column          Non-Null Count   Dtype  \n",
      "---  ------          --------------   -----  \n",
      " 0   id              242417 non-null  int64  \n",
      " 1   name            242417 non-null  object \n",
      " 2   city            220228 non-null  object \n",
      " 3   country_code    242416 non-null  object \n",
      " 4   state_province  172419 non-null  object \n",
      " 5   latitude        242417 non-null  float64\n",
      " 6   longitude       242417 non-null  float64\n",
      " 7   ports           242417 non-null  int64  \n",
      " 8   power_kw        237757 non-null  float64\n",
      " 9   power_class     242417 non-null  object \n",
      " 10  is_fast_dc      242417 non-null  bool   \n",
      "dtypes: bool(1), float64(3), int64(2), object(5)\n",
      "memory usage: 18.7+ MB\n"
     ]
    }
   ],
   "source": [
    "df.info()"
   ]
  },
  {
   "cell_type": "code",
   "execution_count": 9,
   "id": "6237eb9c",
   "metadata": {},
   "outputs": [],
   "source": [
    "df.dropna(inplace=True)"
   ]
  },
  {
   "cell_type": "code",
   "execution_count": 12,
   "id": "74d0e714",
   "metadata": {},
   "outputs": [
    {
     "name": "stdout",
     "output_type": "stream",
     "text": [
      "<class 'pandas.core.frame.DataFrame'>\n",
      "Index: 161769 entries, 76 to 242413\n",
      "Data columns (total 11 columns):\n",
      " #   Column          Non-Null Count   Dtype  \n",
      "---  ------          --------------   -----  \n",
      " 0   id              161769 non-null  int64  \n",
      " 1   name            161769 non-null  object \n",
      " 2   city            161769 non-null  object \n",
      " 3   country_code    161769 non-null  object \n",
      " 4   state_province  161769 non-null  object \n",
      " 5   latitude        161769 non-null  float64\n",
      " 6   longitude       161769 non-null  float64\n",
      " 7   ports           161769 non-null  int64  \n",
      " 8   power_kw        161769 non-null  float64\n",
      " 9   power_class     161769 non-null  object \n",
      " 10  is_fast_dc      161769 non-null  bool   \n",
      "dtypes: bool(1), float64(3), int64(2), object(5)\n",
      "memory usage: 13.7+ MB\n"
     ]
    }
   ],
   "source": [
    "df.info()"
   ]
  },
  {
   "cell_type": "code",
   "execution_count": 11,
   "id": "750eaf76",
   "metadata": {},
   "outputs": [
    {
     "data": {
      "text/plain": [
       "id                0\n",
       "name              0\n",
       "city              0\n",
       "country_code      0\n",
       "state_province    0\n",
       "latitude          0\n",
       "longitude         0\n",
       "ports             0\n",
       "power_kw          0\n",
       "power_class       0\n",
       "is_fast_dc        0\n",
       "dtype: int64"
      ]
     },
     "execution_count": 11,
     "metadata": {},
     "output_type": "execute_result"
    }
   ],
   "source": [
    "df.isnull().sum()"
   ]
  },
  {
   "cell_type": "code",
   "execution_count": null,
   "id": "bc5d5836",
   "metadata": {},
   "outputs": [],
   "source": []
  }
 ],
 "metadata": {
  "kernelspec": {
   "display_name": "Python 3",
   "language": "python",
   "name": "python3"
  },
  "language_info": {
   "codemirror_mode": {
    "name": "ipython",
    "version": 3
   },
   "file_extension": ".py",
   "mimetype": "text/x-python",
   "name": "python",
   "nbconvert_exporter": "python",
   "pygments_lexer": "ipython3",
   "version": "3.13.7"
  }
 },
 "nbformat": 4,
 "nbformat_minor": 5
}
