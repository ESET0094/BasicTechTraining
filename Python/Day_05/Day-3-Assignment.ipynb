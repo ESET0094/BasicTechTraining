{
 "cells": [
  {
   "cell_type": "code",
   "execution_count": 1,
   "id": "7ca78863",
   "metadata": {},
   "outputs": [],
   "source": [
    "# Using the NumPy and pandas libraries, create a small data analysis script\n",
    "import numpy as np \n",
    "import pandas as pd\n"
   ]
  },
  {
   "cell_type": "code",
   "execution_count": 6,
   "id": "bdcae45c",
   "metadata": {},
   "outputs": [],
   "source": [
    "# using numpy to create a 2D Array of shape (3,3)\n",
    "arr =  np.array ([[23,25,24],[1,2,3],[2,6,7]])"
   ]
  },
  {
   "cell_type": "code",
   "execution_count": 16,
   "id": "f8157917",
   "metadata": {},
   "outputs": [
    {
     "name": "stdout",
     "output_type": "stream",
     "text": [
      "[[23 25 24]\n",
      " [ 1  2  3]\n",
      " [ 2  6  7]]\n"
     ]
    }
   ],
   "source": [
    "\n",
    "print(arr)"
   ]
  },
  {
   "cell_type": "code",
   "execution_count": null,
   "id": "aaf27a41",
   "metadata": {},
   "outputs": [
    {
     "name": "stdout",
     "output_type": "stream",
     "text": [
      "[[23 25 24]\n",
      " [ 1  2  3]\n",
      " [ 2  6  7]]\n"
     ]
    }
   ],
   "source": [
    "# Performing a math operation of the whole matrix and saving it to new array\n",
    "new_array = 2*arr\n",
    "print(arr)\n"
   ]
  },
  {
   "cell_type": "code",
   "execution_count": 14,
   "id": "d192d1fe",
   "metadata": {},
   "outputs": [
    {
     "name": "stdout",
     "output_type": "stream",
     "text": [
      "[[46 50 48]\n",
      " [ 2  4  6]\n",
      " [ 4 12 14]]\n"
     ]
    }
   ],
   "source": [
    "print(new_array)"
   ]
  },
  {
   "cell_type": "code",
   "execution_count": 19,
   "id": "70ca7e95",
   "metadata": {},
   "outputs": [
    {
     "name": "stdout",
     "output_type": "stream",
     "text": [
      "{'product_name': ['Nothing 3A', 'CMF by Nothing 2', 'Nothing 3A Pro'], 'price': [25000, 20000, 35000], 'stock_quantity': [65, 50, 20]}\n"
     ]
    }
   ],
   "source": [
    "#Creating a DataFrame from a dictionary\n",
    "\n",
    "dict1 = {'product_name': ['Nothing 3A', 'CMF by Nothing 2', 'Nothing 3A Pro'], 'price': [25000, 20000,35000], 'stock_quantity':[65,50,20]}\n",
    "print(dict1)"
   ]
  },
  {
   "cell_type": "code",
   "execution_count": 20,
   "id": "67d45170",
   "metadata": {},
   "outputs": [],
   "source": [
    "df = pd.DataFrame(dict1)"
   ]
  },
  {
   "cell_type": "code",
   "execution_count": 21,
   "id": "a642e7d6",
   "metadata": {},
   "outputs": [
    {
     "data": {
      "text/html": [
       "<div>\n",
       "<style scoped>\n",
       "    .dataframe tbody tr th:only-of-type {\n",
       "        vertical-align: middle;\n",
       "    }\n",
       "\n",
       "    .dataframe tbody tr th {\n",
       "        vertical-align: top;\n",
       "    }\n",
       "\n",
       "    .dataframe thead th {\n",
       "        text-align: right;\n",
       "    }\n",
       "</style>\n",
       "<table border=\"1\" class=\"dataframe\">\n",
       "  <thead>\n",
       "    <tr style=\"text-align: right;\">\n",
       "      <th></th>\n",
       "      <th>product_name</th>\n",
       "      <th>price</th>\n",
       "      <th>stock_quantity</th>\n",
       "    </tr>\n",
       "  </thead>\n",
       "  <tbody>\n",
       "    <tr>\n",
       "      <th>0</th>\n",
       "      <td>Nothing 3A</td>\n",
       "      <td>25000</td>\n",
       "      <td>65</td>\n",
       "    </tr>\n",
       "    <tr>\n",
       "      <th>1</th>\n",
       "      <td>CMF by Nothing 2</td>\n",
       "      <td>20000</td>\n",
       "      <td>50</td>\n",
       "    </tr>\n",
       "    <tr>\n",
       "      <th>2</th>\n",
       "      <td>Nothing 3A Pro</td>\n",
       "      <td>35000</td>\n",
       "      <td>20</td>\n",
       "    </tr>\n",
       "  </tbody>\n",
       "</table>\n",
       "</div>"
      ],
      "text/plain": [
       "       product_name  price  stock_quantity\n",
       "0        Nothing 3A  25000              65\n",
       "1  CMF by Nothing 2  20000              50\n",
       "2    Nothing 3A Pro  35000              20"
      ]
     },
     "execution_count": 21,
     "metadata": {},
     "output_type": "execute_result"
    }
   ],
   "source": [
    "df.head()"
   ]
  },
  {
   "cell_type": "code",
   "execution_count": null,
   "id": "2e4d2dbb",
   "metadata": {},
   "outputs": [],
   "source": [
    "# Data Filtering Operation to find and printo only the products iwth a stock_quantity greater than 50\n",
    "filtered_df = df[df['stock_quantity']>50]"
   ]
  },
  {
   "cell_type": "code",
   "execution_count": 23,
   "id": "920ec2e8",
   "metadata": {},
   "outputs": [
    {
     "name": "stdout",
     "output_type": "stream",
     "text": [
      "  product_name  price  stock_quantity\n",
      "0   Nothing 3A  25000              65\n"
     ]
    }
   ],
   "source": [
    "print(filtered_df)"
   ]
  },
  {
   "cell_type": "markdown",
   "id": "600dabdb",
   "metadata": {},
   "source": [
    "# End of Assignment "
   ]
  }
 ],
 "metadata": {
  "kernelspec": {
   "display_name": "Python 3",
   "language": "python",
   "name": "python3"
  },
  "language_info": {
   "codemirror_mode": {
    "name": "ipython",
    "version": 3
   },
   "file_extension": ".py",
   "mimetype": "text/x-python",
   "name": "python",
   "nbconvert_exporter": "python",
   "pygments_lexer": "ipython3",
   "version": "3.13.7"
  }
 },
 "nbformat": 4,
 "nbformat_minor": 5
}
